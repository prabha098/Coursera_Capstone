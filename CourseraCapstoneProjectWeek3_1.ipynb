{
  "nbformat": 4,
  "nbformat_minor": 0,
  "metadata": {
    "colab": {
      "name": "CourseraCapstoneProjectWeek3_1.ipynb",
      "provenance": []
    },
    "kernelspec": {
      "name": "python3",
      "display_name": "Python 3"
    }
  },
  "cells": [
    {
      "cell_type": "markdown",
      "metadata": {
        "id": "7EQOYU7-1eOP"
      },
      "source": [
        "Import all necessary Libraries"
      ]
    },
    {
      "cell_type": "code",
      "metadata": {
        "id": "CACu9f5_1bfC"
      },
      "source": [
        "from bs4 import BeautifulSoup\n",
        "import requests\n",
        "import numpy as np\n",
        "import pandas as pd\n",
        "from geopy.geocoders import Nominatim\n",
        "import folium"
      ],
      "execution_count": 19,
      "outputs": []
    },
    {
      "cell_type": "markdown",
      "metadata": {
        "id": "Vmj_PMx918Ky"
      },
      "source": [
        "We will use 'https://en.wikipedia.org/wiki/List_of_postal_codes_of_Canada:_M' for data."
      ]
    },
    {
      "cell_type": "code",
      "metadata": {
        "id": "hLQ0XQt32D_K",
        "outputId": "71c2623e-4ce9-445a-860d-0788e5fc00a4",
        "colab": {
          "base_uri": "https://localhost:8080/"
        }
      },
      "source": [
        "url = 'https://en.wikipedia.org/wiki/List_of_postal_codes_of_Canada:_M'\n",
        "result = requests.get(url)\n",
        "print(url)\n",
        "print(result.status_code)\n",
        "print(result.headers)"
      ],
      "execution_count": 20,
      "outputs": [
        {
          "output_type": "stream",
          "text": [
            "https://en.wikipedia.org/wiki/List_of_postal_codes_of_Canada:_M\n",
            "200\n",
            "{'Date': 'Fri, 30 Oct 2020 23:23:39 GMT', 'Vary': 'Accept-Encoding,Cookie,Authorization', 'Server': 'ATS/8.0.8', 'X-Content-Type-Options': 'nosniff', 'P3p': 'CP=\"See https://en.wikipedia.org/wiki/Special:CentralAutoLogin/P3P for more info.\"', 'Content-Language': 'en', 'X-Request-Id': 'cca2a4c4-31a0-47af-b47a-8e8cb421185d', 'Last-Modified': 'Thu, 29 Oct 2020 22:19:08 GMT', 'Content-Type': 'text/html; charset=UTF-8', 'Content-Encoding': 'gzip', 'Age': '67986', 'X-Cache': 'cp1081 miss, cp1077 hit/14', 'X-Cache-Status': 'hit-front', 'Server-Timing': 'cache;desc=\"hit-front\"', 'Strict-Transport-Security': 'max-age=106384710; includeSubDomains; preload', 'Report-To': '{ \"group\": \"wm_nel\", \"max_age\": 86400, \"endpoints\": [{ \"url\": \"https://intake-logging.wikimedia.org/v1/events?stream=w3c.reportingapi.network_error&schema_uri=/w3c/reportingapi/network_error/1.0.0\" }] }', 'NEL': '{ \"report_to\": \"wm_nel\", \"max_age\": 86400, \"failure_fraction\": 0.05, \"success_fraction\": 0.0}', 'Set-Cookie': 'WMF-Last-Access=31-Oct-2020;Path=/;HttpOnly;secure;Expires=Wed, 02 Dec 2020 12:00:00 GMT, WMF-Last-Access-Global=31-Oct-2020;Path=/;Domain=.wikipedia.org;HttpOnly;secure;Expires=Wed, 02 Dec 2020 12:00:00 GMT, GeoIP=US:SC:North_Charleston:32.86:-79.97:v4; Path=/; secure; Domain=.wikipedia.org', 'X-Client-IP': '104.196.133.181', 'Cache-Control': 'private, s-maxage=0, max-age=0, must-revalidate', 'Accept-Ranges': 'bytes', 'Content-Length': '13096', 'Connection': 'keep-alive'}\n"
          ],
          "name": "stdout"
        }
      ]
    },
    {
      "cell_type": "markdown",
      "metadata": {
        "id": "uGNQt8eN2ZfZ"
      },
      "source": [
        "Cleaning of the Data"
      ]
    },
    {
      "cell_type": "code",
      "metadata": {
        "id": "OySMugUQ2X-D"
      },
      "source": [
        "soup = BeautifulSoup(result.content, 'html.parser')\n",
        "table = soup.find('table')\n",
        "trs = table.find_all('tr')\n",
        "rows = []\n",
        "for tr in trs:\n",
        "    i = tr.find_all('td')\n",
        "    if i:\n",
        "        rows.append(i)\n",
        "        \n",
        "lst = []\n",
        "for row in rows:\n",
        "    postalcode = row[0].text.rstrip()\n",
        "    borough = row[1].text.rstrip()\n",
        "    neighborhood = row[2].text.rstrip()\n",
        "    if borough != 'Not assigned':\n",
        "        if neighborhood == 'Not assigned':\n",
        "            neighborhood = borough\n",
        "        lst.append([postalcode, borough, neighborhood])\n",
        "\n",
        "# lst"
      ],
      "execution_count": 21,
      "outputs": []
    },
    {
      "cell_type": "markdown",
      "metadata": {
        "id": "bwGzp3Fm2jnt"
      },
      "source": [
        "Convert data into Dataframe"
      ]
    },
    {
      "cell_type": "code",
      "metadata": {
        "id": "V3gPjdWq2o8w",
        "outputId": "cd42a0b3-5d57-4331-e1b6-13e1ee0c9394",
        "colab": {
          "base_uri": "https://localhost:8080/"
        }
      },
      "source": [
        "cols = ['PostalCode', 'Borough', 'Neighborhood']\n",
        "df = pd.DataFrame(lst, columns=cols)\n",
        "print(df.shape)\n",
        "#df[df.duplicated(['PostalCode'], keep=False)] - this would have shown the duplicate PostalCodes"
      ],
      "execution_count": 23,
      "outputs": [
        {
          "output_type": "stream",
          "text": [
            "(103, 3)\n"
          ],
          "name": "stdout"
        }
      ]
    },
    {
      "cell_type": "markdown",
      "metadata": {
        "id": "r4PyGS5X27d6"
      },
      "source": [
        "\n",
        "1.  custom groupby / agg to merge Neighborhoods.\n",
        "2.  groupby PostalCode, keep the first Borough and join() Neighborhoods\n",
        "\n",
        "\n"
      ]
    },
    {
      "cell_type": "code",
      "metadata": {
        "id": "WW3lqqsg28b6"
      },
      "source": [
        "df = df.groupby('PostalCode').agg(\n",
        "    {\n",
        "        'Borough':'first', \n",
        "        'Neighborhood': ', '.join,}\n",
        "    ).reset_index()\n",
        "\n",
        "# could have done:\n",
        "# df = df.groupby(['Postcode', 'Borough'], as_index=False).agg(lambda neighborhoods: ', '.join(neighborhoods))"
      ],
      "execution_count": 24,
      "outputs": []
    },
    {
      "cell_type": "markdown",
      "metadata": {
        "id": "tfCVaNwI3Vr6"
      },
      "source": [
        "To check M5A example is done correctlly or not."
      ]
    },
    {
      "cell_type": "code",
      "metadata": {
        "id": "t9hE70Ub3dYw",
        "outputId": "61263deb-da5a-4486-f388-9602e6cbe7ec",
        "colab": {
          "base_uri": "https://localhost:8080/",
          "height": 77
        }
      },
      "source": [
        "df.loc[df['PostalCode'] == 'M5A']"
      ],
      "execution_count": 25,
      "outputs": [
        {
          "output_type": "execute_result",
          "data": {
            "text/html": [
              "<div>\n",
              "<style scoped>\n",
              "    .dataframe tbody tr th:only-of-type {\n",
              "        vertical-align: middle;\n",
              "    }\n",
              "\n",
              "    .dataframe tbody tr th {\n",
              "        vertical-align: top;\n",
              "    }\n",
              "\n",
              "    .dataframe thead th {\n",
              "        text-align: right;\n",
              "    }\n",
              "</style>\n",
              "<table border=\"1\" class=\"dataframe\">\n",
              "  <thead>\n",
              "    <tr style=\"text-align: right;\">\n",
              "      <th></th>\n",
              "      <th>PostalCode</th>\n",
              "      <th>Borough</th>\n",
              "      <th>Neighborhood</th>\n",
              "    </tr>\n",
              "  </thead>\n",
              "  <tbody>\n",
              "    <tr>\n",
              "      <th>53</th>\n",
              "      <td>M5A</td>\n",
              "      <td>Downtown Toronto</td>\n",
              "      <td>Regent Park, Harbourfront</td>\n",
              "    </tr>\n",
              "  </tbody>\n",
              "</table>\n",
              "</div>"
            ],
            "text/plain": [
              "   PostalCode           Borough               Neighborhood\n",
              "53        M5A  Downtown Toronto  Regent Park, Harbourfront"
            ]
          },
          "metadata": {
            "tags": []
          },
          "execution_count": 25
        }
      ]
    },
    {
      "cell_type": "markdown",
      "metadata": {
        "id": "8zyC4pKD3keu"
      },
      "source": [
        "To check shape"
      ]
    },
    {
      "cell_type": "code",
      "metadata": {
        "id": "vGHbtX3q3mu-",
        "outputId": "f2eb9e6f-3631-450e-da60-a567d42ac002",
        "colab": {
          "base_uri": "https://localhost:8080/"
        }
      },
      "source": [
        "df.shape"
      ],
      "execution_count": 26,
      "outputs": [
        {
          "output_type": "execute_result",
          "data": {
            "text/plain": [
              "(103, 3)"
            ]
          },
          "metadata": {
            "tags": []
          },
          "execution_count": 26
        }
      ]
    },
    {
      "cell_type": "code",
      "metadata": {
        "id": "UaKKNACR3nfh"
      },
      "source": [
        ""
      ],
      "execution_count": 17,
      "outputs": []
    }
  ]
}